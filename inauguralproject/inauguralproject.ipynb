{
 "cells": [
  {
   "cell_type": "markdown",
   "metadata": {},
   "source": [
    "# Inaugural Project"
   ]
  },
  {
   "attachments": {},
   "cell_type": "markdown",
   "metadata": {},
   "source": [
    "> **Note the following:** \n",
    "> 1. This is an example of how to structure your **inaugural project**.\n",
    "> 1. Remember the general advice on structuring and commenting your code\n",
    "> 1. The `inauguralproject.py` file includes a function which can be used multiple times in this notebook."
   ]
  },
  {
   "cell_type": "markdown",
   "metadata": {},
   "source": [
    "Imports and set magics:"
   ]
  },
  {
   "cell_type": "code",
   "execution_count": 6,
   "metadata": {},
   "outputs": [
    {
     "name": "stdout",
     "output_type": "stream",
     "text": [
      "The autoreload extension is already loaded. To reload it, use:\n",
      "  %reload_ext autoreload\n"
     ]
    }
   ],
   "source": [
    "import numpy as np\n",
    "%load_ext autoreload\n",
    "%autoreload 2\n",
    "from ExchangeEconomy import ExchangeEconomyClass\n",
    "model = ExchangeEconomyClass()"
   ]
  },
  {
   "cell_type": "markdown",
   "metadata": {},
   "source": [
    "# Question 1"
   ]
  },
  {
   "cell_type": "markdown",
   "metadata": {},
   "source": [
    "**Explain how you solve the model**"
   ]
  },
  {
   "cell_type": "code",
   "execution_count": 2,
   "metadata": {},
   "outputs": [
    {
     "ename": "NameError",
     "evalue": "name 'obj' is not defined",
     "output_type": "error",
     "traceback": [
      "\u001b[1;31m---------------------------------------------------------------------------\u001b[0m",
      "\u001b[1;31mNameError\u001b[0m                                 Traceback (most recent call last)",
      "Cell \u001b[1;32mIn[2], line 32\u001b[0m\n\u001b[0;32m     29\u001b[0m ax_B\u001b[38;5;241m.\u001b[39minvert_yaxis()\n\u001b[0;32m     31\u001b[0m \u001b[38;5;66;03m# A\u001b[39;00m\n\u001b[1;32m---> 32\u001b[0m ax_A\u001b[38;5;241m.\u001b[39mscatter(obj\u001b[38;5;241m.\u001b[39mpar\u001b[38;5;241m.\u001b[39mw1A,obj\u001b[38;5;241m.\u001b[39mpar\u001b[38;5;241m.\u001b[39mw2A,marker\u001b[38;5;241m=\u001b[39m\u001b[38;5;124m'\u001b[39m\u001b[38;5;124ms\u001b[39m\u001b[38;5;124m'\u001b[39m,color\u001b[38;5;241m=\u001b[39m\u001b[38;5;124m'\u001b[39m\u001b[38;5;124mblack\u001b[39m\u001b[38;5;124m'\u001b[39m,label\u001b[38;5;241m=\u001b[39m\u001b[38;5;124m'\u001b[39m\u001b[38;5;124mendowment\u001b[39m\u001b[38;5;124m'\u001b[39m)\n\u001b[0;32m     34\u001b[0m \u001b[38;5;66;03m# limits\u001b[39;00m\n\u001b[0;32m     35\u001b[0m ax_A\u001b[38;5;241m.\u001b[39mplot([\u001b[38;5;241m0\u001b[39m,w1bar],[\u001b[38;5;241m0\u001b[39m,\u001b[38;5;241m0\u001b[39m],lw\u001b[38;5;241m=\u001b[39m\u001b[38;5;241m2\u001b[39m,color\u001b[38;5;241m=\u001b[39m\u001b[38;5;124m'\u001b[39m\u001b[38;5;124mblack\u001b[39m\u001b[38;5;124m'\u001b[39m)\n",
      "\u001b[1;31mNameError\u001b[0m: name 'obj' is not defined"
     ]
    },
    {
     "data": {
      "image/png": "[encoded data removed]",
      "text/plain": [
       "<Figure size 600x600 with 3 Axes>"
      ]
     },
     "metadata": {},
     "output_type": "display_data"
    }
   ],
   "source": []
  },
  {
   "cell_type": "markdown",
   "metadata": {},
   "source": [
    "# Question 2"
   ]
  },
  {
   "cell_type": "markdown",
   "metadata": {},
   "source": [
    "Explain your code and procedure"
   ]
  },
  {
   "cell_type": "code",
   "execution_count": 13,
   "metadata": {},
   "outputs": [
    {
     "name": "stdout",
     "output_type": "stream",
     "text": [
      "        eps1      eps2\n",
      "0  -0.133333 -0.433333\n",
      "1  -0.156962 -0.417333\n",
      "2  -0.178313 -0.401333\n",
      "3  -0.197701 -0.385333\n",
      "4  -0.215385 -0.369333\n",
      "..       ...       ...\n",
      "71 -0.502507  0.702667\n",
      "72 -0.503581  0.718667\n",
      "73 -0.504632  0.734667\n",
      "74 -0.505660  0.750667\n",
      "75 -0.506667  0.766667\n",
      "\n",
      "[76 rows x 2 columns]\n"
     ]
    }
   ],
   "source": [
    "#First we define price for good 1\n",
    "p1 = [(0.5 + 2*i/75) for i in range(76)]\n",
    "\n",
    "#Here we make calculations for errors in market for good 1 and 2\n",
    "errors = [model.check_market_clearing(x) for x in p1]\n",
    "eps1 = [x[0] for x in errors]\n",
    "eps2 = [x[1] for x in errors]\n",
    "\n",
    "#We import panda to create DataFramce\n",
    "import pandas as pd\n",
    "\n",
    "#Here we create DataFrame \n",
    "df = pd.DataFrame(errors, columns=['eps1', 'eps2'])\n",
    "print(df)"
   ]
  },
  {
   "cell_type": "markdown",
   "metadata": {},
   "source": [
    "# Question 3"
   ]
  },
  {
   "cell_type": "markdown",
   "metadata": {},
   "source": [
    "Explain your code and procedure"
   ]
  },
  {
   "cell_type": "code",
   "execution_count": 14,
   "metadata": {},
   "outputs": [
    {
     "name": "stdout",
     "output_type": "stream",
     "text": [
      "No p1 value found that makes error = 0\n"
     ]
    }
   ],
   "source": [
    "#In question 3 we find the market clearing price 1 (when price 2=1).\n",
    "#we can see in question 2 that the price is somewhere between 0,5 and 2,5\n",
    "\n",
    "# Iterate over the eps1 values to find when error = 0\n",
    "for i, error in enumerate(eps1):\n",
    "    if abs(error) < 0.01:  # Adjust the tolerance as needed\n",
    "        p1_with_error_zero = p1[i]\n",
    "        print(\"p1 value that makes error = 0:\", p1_with_error_zero)\n",
    "        break\n",
    "else:\n",
    "    print(\"No p1 value found that makes error = 0\")"
   ]
  },
  {
   "cell_type": "markdown",
   "metadata": {},
   "source": [
    "ADD CONCISE CONLUSION."
   ]
  }
 ],
 "metadata": {
  "kernelspec": {
   "display_name": "base",
   "language": "python",
   "name": "python3"
  },
  "language_info": {
   "codemirror_mode": {
    "name": "ipython",
    "version": 3
   },
   "file_extension": ".py",
   "mimetype": "text/x-python",
   "name": "python",
   "nbconvert_exporter": "python",
   "pygments_lexer": "ipython3",
   "version": "3.11.7"
  },
  "toc-autonumbering": true,
  "vscode": {
   "interpreter": {
    "hash": "47ef90cdf3004d3f859f1fb202523c65c07ba7c22eefd261b181f4744e2d0403"
   }
  }
 },
 "nbformat": 4,
 "nbformat_minor": 4
}
