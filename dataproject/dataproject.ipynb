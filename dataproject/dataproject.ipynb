{
 "cells": [
  {
   "cell_type": "markdown",
   "metadata": {},
   "source": [
    "# YOUR PROJECT TITLE"
   ]
  },
  {
   "attachments": {},
   "cell_type": "markdown",
   "metadata": {},
   "source": [
    "> **Note the following:** \n",
    "> 1. This is *not* meant to be an example of an actual **data analysis project**, just an example of how to structure such a project.\n",
    "> 1. Remember the general advice on structuring and commenting your code\n",
    "> 1. The `dataproject.py` file includes a function which can be used multiple times in this notebook."
   ]
  },
  {
   "cell_type": "markdown",
   "metadata": {},
   "source": [
    "Imports and set magics:"
   ]
  },
  {
   "cell_type": "code",
   "execution_count": 3,
   "metadata": {},
   "outputs": [
    {
     "name": "stdout",
     "output_type": "stream",
     "text": [
      "Requirement already satisfied: matplotlib-venn in c:\\users\\jacob\\anaconda3\\lib\\site-packages (0.11.10)\n",
      "Requirement already satisfied: matplotlib in c:\\users\\jacob\\anaconda3\\lib\\site-packages (from matplotlib-venn) (3.8.0)\n",
      "Requirement already satisfied: numpy in c:\\users\\jacob\\anaconda3\\lib\\site-packages (from matplotlib-venn) (1.26.3)\n",
      "Requirement already satisfied: scipy in c:\\users\\jacob\\anaconda3\\lib\\site-packages (from matplotlib-venn) (1.11.4)\n",
      "Requirement already satisfied: contourpy>=1.0.1 in c:\\users\\jacob\\anaconda3\\lib\\site-packages (from matplotlib->matplotlib-venn) (1.2.0)\n",
      "Requirement already satisfied: cycler>=0.10 in c:\\users\\jacob\\anaconda3\\lib\\site-packages (from matplotlib->matplotlib-venn) (0.11.0)\n",
      "Requirement already satisfied: fonttools>=4.22.0 in c:\\users\\jacob\\anaconda3\\lib\\site-packages (from matplotlib->matplotlib-venn) (4.25.0)\n",
      "Requirement already satisfied: kiwisolver>=1.0.1 in c:\\users\\jacob\\anaconda3\\lib\\site-packages (from matplotlib->matplotlib-venn) (1.4.4)\n",
      "Requirement already satisfied: packaging>=20.0 in c:\\users\\jacob\\anaconda3\\lib\\site-packages (from matplotlib->matplotlib-venn) (23.1)\n",
      "Requirement already satisfied: pillow>=6.2.0 in c:\\users\\jacob\\anaconda3\\lib\\site-packages (from matplotlib->matplotlib-venn) (10.0.1)\n",
      "Requirement already satisfied: pyparsing>=2.3.1 in c:\\users\\jacob\\anaconda3\\lib\\site-packages (from matplotlib->matplotlib-venn) (3.0.9)\n",
      "Requirement already satisfied: python-dateutil>=2.7 in c:\\users\\jacob\\anaconda3\\lib\\site-packages (from matplotlib->matplotlib-venn) (2.8.2)\n",
      "Requirement already satisfied: six>=1.5 in c:\\users\\jacob\\anaconda3\\lib\\site-packages (from python-dateutil>=2.7->matplotlib->matplotlib-venn) (1.16.0)\n"
     ]
    }
   ],
   "source": [
    "!pip install matplotlib-venn"
   ]
  },
  {
   "cell_type": "code",
   "execution_count": 16,
   "metadata": {},
   "outputs": [
    {
     "name": "stdout",
     "output_type": "stream",
     "text": [
      "The autoreload extension is already loaded. To reload it, use:\n",
      "  %reload_ext autoreload\n"
     ]
    }
   ],
   "source": [
    "import pandas as pd\n",
    "import numpy as np\n",
    "import matplotlib.pyplot as plt\n",
    "import ipywidgets as widgets\n",
    "from matplotlib_venn import venn2\n",
    "\n",
    "# autoreload modules when code is run\n",
    "%load_ext autoreload\n",
    "%autoreload 2\n",
    "\n",
    "# user written modules\n",
    "import dataproject"
   ]
  },
  {
   "cell_type": "markdown",
   "metadata": {},
   "source": [
    "# Read and clean data"
   ]
  },
  {
   "cell_type": "markdown",
   "metadata": {},
   "source": [
    "We are importing our data using an API for Danmarks statistik."
   ]
  },
  {
   "cell_type": "code",
   "execution_count": 5,
   "metadata": {},
   "outputs": [
    {
     "name": "stdout",
     "output_type": "stream",
     "text": [
      "Collecting git+https://github.com/alemartinello/dstapiNote: you may need to restart the kernel to use updated packages.\n",
      "\n",
      "  Cloning https://github.com/alemartinello/dstapi to c:\\users\\jacob\\appdata\\local\\temp\\pip-req-build-4fgi4pb3\n",
      "  Resolved https://github.com/alemartinello/dstapi to commit d9eeb5a82cbc70b7d63b2ff44d92632fd77123a4\n",
      "  Preparing metadata (setup.py): started\n",
      "  Preparing metadata (setup.py): finished with status 'done'\n",
      "Requirement already satisfied: pandas in c:\\users\\jacob\\anaconda3\\lib\\site-packages (from dstapi==0.2) (2.1.4)\n",
      "Requirement already satisfied: requests in c:\\users\\jacob\\anaconda3\\lib\\site-packages (from dstapi==0.2) (2.31.0)\n",
      "Requirement already satisfied: numpy<2,>=1.23.2 in c:\\users\\jacob\\anaconda3\\lib\\site-packages (from pandas->dstapi==0.2) (1.26.3)\n",
      "Requirement already satisfied: python-dateutil>=2.8.2 in c:\\users\\jacob\\anaconda3\\lib\\site-packages (from pandas->dstapi==0.2) (2.8.2)\n",
      "Requirement already satisfied: pytz>=2020.1 in c:\\users\\jacob\\anaconda3\\lib\\site-packages (from pandas->dstapi==0.2) (2023.3.post1)\n",
      "Requirement already satisfied: tzdata>=2022.1 in c:\\users\\jacob\\anaconda3\\lib\\site-packages (from pandas->dstapi==0.2) (2023.3)\n",
      "Requirement already satisfied: charset-normalizer<4,>=2 in c:\\users\\jacob\\anaconda3\\lib\\site-packages (from requests->dstapi==0.2) (2.0.4)\n",
      "Requirement already satisfied: idna<4,>=2.5 in c:\\users\\jacob\\anaconda3\\lib\\site-packages (from requests->dstapi==0.2) (3.4)\n",
      "Requirement already satisfied: urllib3<3,>=1.21.1 in c:\\users\\jacob\\anaconda3\\lib\\site-packages (from requests->dstapi==0.2) (1.26.18)\n",
      "Requirement already satisfied: certifi>=2017.4.17 in c:\\users\\jacob\\anaconda3\\lib\\site-packages (from requests->dstapi==0.2) (2024.2.2)\n",
      "Requirement already satisfied: six>=1.5 in c:\\users\\jacob\\anaconda3\\lib\\site-packages (from python-dateutil>=2.8.2->pandas->dstapi==0.2) (1.16.0)\n"
     ]
    },
    {
     "name": "stderr",
     "output_type": "stream",
     "text": [
      "  Running command git clone --filter=blob:none --quiet https://github.com/alemartinello/dstapi 'C:\\Users\\jacob\\AppData\\Local\\Temp\\pip-req-build-4fgi4pb3'\n"
     ]
    },
    {
     "name": "stdout",
     "output_type": "stream",
     "text": [
      "Requirement already satisfied: pandas-datareader in c:\\users\\jacob\\anaconda3\\lib\\site-packages (0.10.0)\n",
      "Requirement already satisfied: lxml in c:\\users\\jacob\\anaconda3\\lib\\site-packages (from pandas-datareader) (4.9.3)\n",
      "Requirement already satisfied: pandas>=0.23 in c:\\users\\jacob\\anaconda3\\lib\\site-packages (from pandas-datareader) (2.1.4)\n",
      "Requirement already satisfied: requests>=2.19.0 in c:\\users\\jacob\\anaconda3\\lib\\site-packages (from pandas-datareader) (2.31.0)\n",
      "Requirement already satisfied: numpy<2,>=1.23.2 in c:\\users\\jacob\\anaconda3\\lib\\site-packages (from pandas>=0.23->pandas-datareader) (1.26.3)\n",
      "Requirement already satisfied: python-dateutil>=2.8.2 in c:\\users\\jacob\\anaconda3\\lib\\site-packages (from pandas>=0.23->pandas-datareader) (2.8.2)\n",
      "Requirement already satisfied: pytz>=2020.1 in c:\\users\\jacob\\anaconda3\\lib\\site-packages (from pandas>=0.23->pandas-datareader) (2023.3.post1)\n",
      "Requirement already satisfied: tzdata>=2022.1 in c:\\users\\jacob\\anaconda3\\lib\\site-packages (from pandas>=0.23->pandas-datareader) (2023.3)\n",
      "Requirement already satisfied: charset-normalizer<4,>=2 in c:\\users\\jacob\\anaconda3\\lib\\site-packages (from requests>=2.19.0->pandas-datareader) (2.0.4)\n",
      "Requirement already satisfied: idna<4,>=2.5 in c:\\users\\jacob\\anaconda3\\lib\\site-packages (from requests>=2.19.0->pandas-datareader) (3.4)\n",
      "Requirement already satisfied: urllib3<3,>=1.21.1 in c:\\users\\jacob\\anaconda3\\lib\\site-packages (from requests>=2.19.0->pandas-datareader) (1.26.18)\n",
      "Requirement already satisfied: certifi>=2017.4.17 in c:\\users\\jacob\\anaconda3\\lib\\site-packages (from requests>=2.19.0->pandas-datareader) (2024.2.2)\n",
      "Requirement already satisfied: six>=1.5 in c:\\users\\jacob\\anaconda3\\lib\\site-packages (from python-dateutil>=2.8.2->pandas>=0.23->pandas-datareader) (1.16.0)\n",
      "Note: you may need to restart the kernel to use updated packages.\n"
     ]
    }
   ],
   "source": [
    "# installing API reader, that will allow to load data from DST.\n",
    "%pip install git+https://github.com/alemartinello/dstapi\n",
    "%pip install pandas-datareader\n",
    "\n",
    "import pandas_datareader # install with `pip install pandas-datareader`\n",
    "from dstapi import DstApi # install with `pip install git+https://github.com/alemartinello/dstapi`"
   ]
  },
  {
   "cell_type": "markdown",
   "metadata": {},
   "source": [
    "## Explore each data set"
   ]
  },
  {
   "cell_type": "markdown",
   "metadata": {},
   "source": [
    "In order to be able to **explore the raw data**, you may provide **static** and **interactive plots** to show important developments "
   ]
  },
  {
   "cell_type": "markdown",
   "metadata": {},
   "source": [
    "**Interactive plot** :"
   ]
  },
  {
   "cell_type": "markdown",
   "metadata": {},
   "source": [
    "Explain what you see when moving elements of the interactive plot around. "
   ]
  },
  {
   "cell_type": "code",
   "execution_count": null,
   "metadata": {},
   "outputs": [],
   "source": [
    "forsyningsbalanen = DstApi('NAN1')\n",
    "tabsum = forsyningsbalanen.tablesummary(language = 'en')\n",
    "display(tabsum)\n",
    "for variable in tabsum['variable name']:\n",
    "    print(variable+':')\n",
    "    display(forsyningsbalanen.variable_levels(variable, language='en'))"
   ]
  },
  {
   "cell_type": "code",
   "execution_count": null,
   "metadata": {},
   "outputs": [],
   "source": [
    "kvartal_bnp = DstApi('NKN1')\n",
    "tabsum2 = kvartal_bnp.tablesummary(language = 'en')\n",
    "display(tabsum2)\n",
    "for variable in tabsum['variable name']:\n",
    "    print(variable+':')\n",
    "    display(kvartal_bnp.variable_levels(variable, language='en'))"
   ]
  },
  {
   "cell_type": "markdown",
   "metadata": {},
   "source": [
    "# Merge data sets"
   ]
  },
  {
   "cell_type": "markdown",
   "metadata": {},
   "source": [
    "Now you create combinations of your loaded data sets. Remember the illustration of a (inner) **merge**:"
   ]
  },
  {
   "cell_type": "code",
   "execution_count": 25,
   "metadata": {},
   "outputs": [
    {
     "name": "stdout",
     "output_type": "stream",
     "text": [
      "        TID INDHOLD\n",
      "8568   1990  1288.6\n",
      "745    1991  1306.6\n",
      "7080   1992  1332.2\n",
      "5581   1993  1332.3\n",
      "9487   1994  1403.3\n",
      "6697   1995  1445.8\n",
      "3532   1996  1487.8\n",
      "8010   1997  1536.3\n",
      "5767   1998  1570.3\n",
      "2295   1999  1616.6\n",
      "7824   2000  1677.2\n",
      "6325   2001  1691.0\n",
      "4279   2002  1698.9\n",
      "6876   2003  1705.5\n",
      "8196   2004  1751.0\n",
      "373    2005  1792.0\n",
      "9673   2006  1862.1\n",
      "931    2007  1879.0\n",
      "2416   2008  1869.4\n",
      "8382   2009  1777.7\n",
      "1489   2010  1810.9\n",
      "1675   2011  1835.1\n",
      "7452   2012  1839.3\n",
      "5023   2013  1856.5\n",
      "3346   2014  1886.5\n",
      "2044   2015  1930.7\n",
      "10603  2016  1993.4\n",
      "2788   2017  2049.6\n",
      "5953   2018  2090.4\n",
      "1861   2019  2121.6\n",
      "1117   2020  2070.2\n",
      "5395   2021  2211.9\n",
      "187    2022  2272.3\n",
      "6894   2023  2315.2\n"
     ]
    }
   ],
   "source": [
    "#Supply balance BNP\n",
    "print(dataproject.supply_balance_BNP())"
   ]
  },
  {
   "cell_type": "code",
   "execution_count": 26,
   "metadata": {},
   "outputs": [
    {
     "name": "stdout",
     "output_type": "stream",
     "text": [
      "        TID INDHOLD\n",
      "4801   1966   112.2\n",
      "8904   1967   120.0\n",
      "10381  1968   127.7\n",
      "3310   1969   144.0\n",
      "4987   1970   157.2\n",
      "10009  1971   159.4\n",
      "10567  1972   161.3\n",
      "6661   1973   190.0\n",
      "9451   1974   186.1\n",
      "4243   1975   176.9\n",
      "9090   1976   206.6\n",
      "2752   1977   208.4\n",
      "5359   1978   210.4\n",
      "151    1979   224.4\n",
      "7416   1980   211.9\n",
      "10195  1981   213.1\n",
      "1449   1982   219.8\n",
      "3124   1983   224.1\n",
      "4615   1984   236.1\n",
      "709    1985   259.6\n",
      "4036   1986   281.6\n",
      "6840   1987   278.3\n",
      "6289   1988   290.0\n",
      "7788   1989   305.7\n",
      "8718   1990   312.9\n",
      "895    1991   325.6\n",
      "7230   1992   325.1\n",
      "5731   1993   320.5\n",
      "9637   1994   363.1\n",
      "9265   1995   388.6\n",
      "3682   1996   400.7\n",
      "8160   1997   437.6\n",
      "5917   1998   470.7\n",
      "2259   1999   482.7\n",
      "7974   2000   548.7\n",
      "6475   2001   561.9\n",
      "4429   2002   597.7\n",
      "3850   2003   591.6\n",
      "8346   2004   633.8\n",
      "523    2005   705.3\n",
      "9823   2006   803.9\n",
      "1081   2007   850.8\n",
      "2566   2008   891.4\n",
      "8532   2009   784.9\n",
      "1639   2010   789.1\n",
      "1825   2011   847.9\n",
      "7602   2012   870.9\n",
      "5173   2013   883.7\n",
      "3496   2014   918.1\n",
      "2194   2015   960.0\n",
      "10753  2016   995.1\n",
      "2938   2017  1036.8\n",
      "6103   2018  1089.6\n",
      "2011   2019  1122.4\n",
      "1267   2020  1091.1\n",
      "5545   2021  1187.3\n",
      "337    2022  1264.5\n",
      "7044   2023  1372.8\n"
     ]
    }
   ],
   "source": [
    "#Supply balance import\n",
    "print(dataproject.supply_balance_import())"
   ]
  },
  {
   "cell_type": "code",
   "execution_count": 27,
   "metadata": {},
   "outputs": [
    {
     "name": "stdout",
     "output_type": "stream",
     "text": [
      "        TID INDHOLD\n",
      "4783   1966   123.6\n",
      "8886   1967   128.2\n",
      "10363  1968   140.7\n",
      "3292   1969   149.2\n",
      "4969   1970   154.9\n",
      "9991   1971   164.7\n",
      "10549  1972   173.4\n",
      "6643   1973   187.8\n",
      "9433   1974   194.2\n",
      "4225   1975   192.8\n",
      "9072   1976   199.5\n",
      "2734   1977   206.6\n",
      "5341   1978   209.5\n",
      "133    1979   232.3\n",
      "7398   1980   245.3\n",
      "10177  1981   266.5\n",
      "1431   1982   275.0\n",
      "3106   1983   287.6\n",
      "4597   1984   297.1\n",
      "691    1985   315.0\n",
      "4018   1986   319.2\n",
      "6822   1987   334.7\n",
      "6271   1988   365.3\n",
      "7770   1989   382.3\n",
      "8700   1990   407.3\n",
      "877    1991   432.4\n",
      "7212   1992   433.6\n",
      "5713   1993   438.9\n",
      "9619   1994   475.1\n",
      "9247   1995   488.8\n",
      "3664   1996   511.5\n",
      "8142   1997   534.5\n",
      "5899   1998   556.4\n",
      "2241   1999   619.1\n",
      "7956   2000   696.9\n",
      "6457   2001   720.3\n",
      "4411   2002   751.7\n",
      "3832   2003   742.7\n",
      "8328   2004   765.1\n",
      "505    2005   824.2\n",
      "9805   2006   909.4\n",
      "1063   2007   942.6\n",
      "2548   2008   979.1\n",
      "8514   2009   888.8\n",
      "1621   2010   914.9\n",
      "1807   2011   980.8\n",
      "7584   2012   992.2\n",
      "5155   2013  1008.1\n",
      "3478   2014  1039.7\n",
      "2176   2015  1076.9\n",
      "10735  2016  1121.2\n",
      "2920   2017  1175.1\n",
      "6085   2018  1214.5\n",
      "1993   2019  1269.3\n",
      "1249   2020  1191.8\n",
      "5527   2021  1283.3\n",
      "319    2022  1422.4\n",
      "7026   2023  1613.2\n"
     ]
    }
   ],
   "source": [
    "#Supply balance export\n",
    "print(dataproject.supply_balance_export())"
   ]
  },
  {
   "cell_type": "code",
   "execution_count": 28,
   "metadata": {},
   "outputs": [
    {
     "name": "stdout",
     "output_type": "stream",
     "text": [
      "        TID INDHOLD\n",
      "4675   1966   372.8\n",
      "8778   1967   397.9\n",
      "10255  1968   412.2\n",
      "3184   1969   435.8\n",
      "4861   1970   446.6\n",
      "9883   1971   450.3\n",
      "10441  1972   450.6\n",
      "6535   1973   484.7\n",
      "9325   1974   473.7\n",
      "4117   1975   488.5\n",
      "8964   1976   525.8\n",
      "2626   1977   536.2\n",
      "5233   1978   545.5\n",
      "25     1979   551.1\n",
      "7290   1980   538.8\n",
      "10069  1981   532.0\n",
      "1323   1982   539.5\n",
      "2998   1983   549.9\n",
      "4489   1984   569.2\n",
      "583    1985   594.7\n",
      "3910   1986   637.1\n",
      "6714   1987   625.0\n",
      "6163   1988   613.6\n",
      "7662   1989   615.5\n",
      "8592   1990   620.4\n",
      "769    1991   630.5\n",
      "7104   1992   646.7\n",
      "5605   1993   641.1\n",
      "9511   1994   683.8\n",
      "9139   1995   695.3\n",
      "3556   1996   712.4\n",
      "8034   1997   733.3\n",
      "5791   1998   750.6\n",
      "2319   1999   749.7\n",
      "7848   2000   752.6\n",
      "6349   2001   754.3\n",
      "4303   2002   765.2\n",
      "3724   2003   775.4\n",
      "8220   2004   811.5\n",
      "397    2005   841.5\n",
      "9697   2006   866.3\n",
      "955    2007   881.6\n",
      "2440   2008   885.9\n",
      "8406   2009   855.5\n",
      "1513   2010   862.2\n",
      "1699   2011   864.6\n",
      "7476   2012   869.0\n",
      "5047   2013   871.5\n",
      "3370   2014   879.4\n",
      "2068   2015   899.5\n",
      "10627  2016   921.2\n",
      "2812   2017   942.3\n",
      "5977   2018   975.2\n",
      "1885   2019   990.6\n",
      "1141   2020   977.0\n",
      "5419   2021  1030.5\n",
      "211    2022  1015.7\n",
      "6918   2023  1026.3\n"
     ]
    }
   ],
   "source": [
    "#Supply balance privat\n",
    "print(dataproject.supply_balance_privat())"
   ]
  },
  {
   "cell_type": "code",
   "execution_count": 29,
   "metadata": {},
   "outputs": [
    {
     "name": "stdout",
     "output_type": "stream",
     "text": [
      "          TID INDHOLD\n",
      "412    1996Q2   373.8\n",
      "413    2002Q4   424.4\n",
      "747    2012Q4   459.6\n",
      "1119   2020Q4   527.0\n",
      "2360   1993Q1   332.0\n",
      "...       ...     ...\n",
      "48928  1992Q1   331.1\n",
      "49098  2009Q3   442.9\n",
      "49470  2021Q2   551.2\n",
      "49975  2022Q2   568.8\n",
      "50425  1995Q3   361.3\n",
      "\n",
      "[136 rows x 2 columns]\n"
     ]
    }
   ],
   "source": [
    "#Quarterly BNP, seasonally adjusted\n",
    "print(dataproject.quarterly_BNP())"
   ]
  },
  {
   "cell_type": "markdown",
   "metadata": {},
   "source": [
    "# Analysis"
   ]
  },
  {
   "cell_type": "markdown",
   "metadata": {},
   "source": [
    "To get a quick overview of the data, we show some **summary statistics** on a meaningful aggregation. "
   ]
  },
  {
   "cell_type": "code",
   "execution_count": null,
   "metadata": {},
   "outputs": [],
   "source": [
    "# 3* flot graf"
   ]
  },
  {
   "cell_type": "markdown",
   "metadata": {},
   "source": [
    "MAKE FURTHER ANALYSIS. EXPLAIN THE CODE BRIEFLY AND SUMMARIZE THE RESULTS."
   ]
  },
  {
   "cell_type": "markdown",
   "metadata": {},
   "source": [
    "# Conclusion"
   ]
  },
  {
   "cell_type": "markdown",
   "metadata": {},
   "source": [
    "ADD CONCISE CONLUSION."
   ]
  }
 ],
 "metadata": {
  "kernelspec": {
   "display_name": "base",
   "language": "python",
   "name": "python3"
  },
  "language_info": {
   "codemirror_mode": {
    "name": "ipython",
    "version": 3
   },
   "file_extension": ".py",
   "mimetype": "text/x-python",
   "name": "python",
   "nbconvert_exporter": "python",
   "pygments_lexer": "ipython3",
   "version": "3.11.7"
  },
  "toc-autonumbering": true,
  "vscode": {
   "interpreter": {
    "hash": "47ef90cdf3004d3f859f1fb202523c65c07ba7c22eefd261b181f4744e2d0403"
   }
  }
 },
 "nbformat": 4,
 "nbformat_minor": 4
}
